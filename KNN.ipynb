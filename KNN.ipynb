{
  "nbformat": 4,
  "nbformat_minor": 0,
  "metadata": {
    "colab": {
      "name": "KNN.ipynb",
      "provenance": [],
      "authorship_tag": "ABX9TyM5qobMyMD4Xrblzb0XxjDc",
      "include_colab_link": true
    },
    "kernelspec": {
      "name": "python3",
      "display_name": "Python 3"
    },
    "language_info": {
      "name": "python"
    }
  },
  "cells": [
    {
      "cell_type": "markdown",
      "metadata": {
        "id": "view-in-github",
        "colab_type": "text"
      },
      "source": [
        "<a href=\"https://colab.research.google.com/github/hauduong05/ML_basics/blob/main/KNN.ipynb\" target=\"_parent\"><img src=\"https://colab.research.google.com/assets/colab-badge.svg\" alt=\"Open In Colab\"/></a>"
      ]
    },
    {
      "cell_type": "code",
      "metadata": {
        "id": "HvpCu5U3sZ4y"
      },
      "source": [
        "import numpy as np\n",
        "from __future__ import print_function\n",
        "from sklearn import neighbors, datasets\n",
        "from sklearn.model_selection import train_test_split\n",
        "from sklearn.metrics import accuracy_score, classification_report"
      ],
      "execution_count": 5,
      "outputs": []
    },
    {
      "cell_type": "code",
      "metadata": {
        "id": "bjFdStZe972x"
      },
      "source": [
        "# prepare data\n",
        "\n",
        "iris = datasets.load_iris()\n",
        "iris_X = iris.data\n",
        "iris_Y = iris.target\n",
        "\n",
        "np.random.seed(10)\n",
        "X_train, X_test, y_train, y_test = train_test_split(iris_X, iris_Y, test_size = 130)"
      ],
      "execution_count": 6,
      "outputs": []
    },
    {
      "cell_type": "code",
      "metadata": {
        "colab": {
          "base_uri": "https://localhost:8080/"
        },
        "id": "GNiFSHZU9_Vo",
        "outputId": "29a10bcb-7646-4e2c-e081-83b4dfba02ce"
      },
      "source": [
        "model = neighbors.KNeighborsClassifier(n_neighbors = 1, p = 2, weights='distance')\n",
        "model.fit(X_train, y_train)\n",
        "y_pred = model.predict(X_test)\n",
        "\n",
        "print(f'Accuracy = {accuracy_score(y_pred, y_test):.3f} \\n')\n",
        "print(classification_report(y_pred, y_test))"
      ],
      "execution_count": 10,
      "outputs": [
        {
          "output_type": "stream",
          "name": "stdout",
          "text": [
            "Accuracy = 0.969 \n",
            "\n",
            "              precision    recall  f1-score   support\n",
            "\n",
            "           0       1.00      1.00      1.00        43\n",
            "           1       0.91      1.00      0.95        41\n",
            "           2       1.00      0.91      0.95        46\n",
            "\n",
            "    accuracy                           0.97       130\n",
            "   macro avg       0.97      0.97      0.97       130\n",
            "weighted avg       0.97      0.97      0.97       130\n",
            "\n"
          ]
        }
      ]
    }
  ]
}