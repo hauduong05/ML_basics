{
  "nbformat": 4,
  "nbformat_minor": 0,
  "metadata": {
    "colab": {
      "name": "Kmeans.ipynb",
      "provenance": [],
      "authorship_tag": "ABX9TyNVjZOzW53+RL3zIt75Gr2S",
      "include_colab_link": true
    },
    "kernelspec": {
      "name": "python3",
      "display_name": "Python 3"
    },
    "language_info": {
      "name": "python"
    }
  },
  "cells": [
    {
      "cell_type": "markdown",
      "metadata": {
        "id": "view-in-github",
        "colab_type": "text"
      },
      "source": [
        "<a href=\"https://colab.research.google.com/github/hauduong05/ML_basics/blob/main/Kmeans.ipynb\" target=\"_parent\"><img src=\"https://colab.research.google.com/assets/colab-badge.svg\" alt=\"Open In Colab\"/></a>"
      ]
    },
    {
      "cell_type": "code",
      "metadata": {
        "id": "EeWI1pNy_7rY"
      },
      "source": [
        "import numpy as np\n",
        "import matplotlib.pyplot as plt\n",
        "from sklearn.cluster import KMeans"
      ],
      "execution_count": 10,
      "outputs": []
    },
    {
      "cell_type": "code",
      "metadata": {
        "id": "Jv3pI6ytNUWW"
      },
      "source": [
        "# prepare data\n",
        "\n",
        "np.random.seed(21)\n",
        "means = [[2, 2], [8, 3], [3, 6]]\n",
        "cov = [[1, 0], [0, 1]]\n",
        "N = 500\n",
        "X0 = np.random.multivariate_normal(means[0], cov, N)\n",
        "X1 = np.random.multivariate_normal(means[1], cov, N)\n",
        "X2 = np.random.multivariate_normal(means[2], cov, N)\n",
        "\n",
        "X = np.concatenate((X0, X1, X2), axis = 0)"
      ],
      "execution_count": 11,
      "outputs": []
    },
    {
      "cell_type": "code",
      "metadata": {
        "colab": {
          "base_uri": "https://localhost:8080/",
          "height": 265
        },
        "id": "83ea9ijkKaSO",
        "outputId": "7d841b9a-6700-4933-de40-7da75394a429"
      },
      "source": [
        "# plot data\n",
        "\n",
        "fig = plt.figure()\n",
        "plt.plot(X0[:, 0], X0[:, 1], 'ro')\n",
        "plt.plot(X1[:, 0], X1[:, 1], 'b^')\n",
        "plt.plot(X2[:, 0], X2[:, 1], 'gs')\n",
        "plt.axis('equal')\n",
        "plt.show()"
      ],
      "execution_count": 12,
      "outputs": [
        {
          "output_type": "display_data",
          "data": {
            "image/png": "[encoded data removed]",
            "text/plain": [
              "<Figure size 432x288 with 1 Axes>"
            ]
          },
          "metadata": {
            "needs_background": "light"
          }
        }
      ]
    },
    {
      "cell_type": "code",
      "metadata": {
        "id": "ROVEFwPANJ2I"
      },
      "source": [
        "# kmeans\n",
        "\n",
        "kmeans = KMeans(n_clusters=3).fit(X)\n",
        "\n",
        "print(kmeans.cluster_centers_)\n",
        "print(kmeans.predict(X))"
      ],
      "execution_count": null,
      "outputs": []
    }
  ]
}