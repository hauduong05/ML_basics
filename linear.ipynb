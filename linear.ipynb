{
  "nbformat": 4,
  "nbformat_minor": 0,
  "metadata": {
    "colab": {
      "name": "linear.ipynb",
      "provenance": [],
      "authorship_tag": "ABX9TyOV++9ijWq9Ee+jMEArdXzJ",
      "include_colab_link": true
    },
    "kernelspec": {
      "name": "python3",
      "display_name": "Python 3"
    },
    "language_info": {
      "name": "python"
    },
    "accelerator": "GPU"
  },
  "cells": [
    {
      "cell_type": "markdown",
      "metadata": {
        "id": "view-in-github",
        "colab_type": "text"
      },
      "source": [
        "<a href=\"https://colab.research.google.com/github/hauduong05/ML_basics/blob/main/linear.ipynb\" target=\"_parent\"><img src=\"https://colab.research.google.com/assets/colab-badge.svg\" alt=\"Open In Colab\"/></a>"
      ]
    },
    {
      "cell_type": "code",
      "metadata": {
        "id": "tBe4gfTOS-nC"
      },
      "source": [
        "from google.colab import drive\n",
        "drive.mount('/content/gdrive')"
      ],
      "execution_count": null,
      "outputs": []
    },
    {
      "cell_type": "code",
      "metadata": {
        "id": "UZ6lJE9OycGS"
      },
      "source": [
        "# prepare data\n",
        "\n",
        "df = pd.read_csv('/content/gdrive/MyDrive/linear/data_linear.csv')\n",
        "y = df['Giá'].values\n",
        "x = df['Diện tích'].values\n",
        "y = torch.tensor([y], dtype=torch.float32).view(-1, 1)\n",
        "x = torch.tensor([x], dtype=torch.float32).view(-1, 1)"
      ],
      "execution_count": 14,
      "outputs": []
    },
    {
      "cell_type": "code",
      "metadata": {
        "id": "ZKoJgtjm07YI"
      },
      "source": [
        "# initial parameters and model\n",
        "\n",
        "n_samples, n_features = x.shape\n",
        "input_size = n_features\n",
        "output_size = n_features\n",
        "n_iters = 100\n",
        "learning_rate = 1e-4\n",
        "\n",
        "model = nn.Linear(input_size, output_size)\n",
        "loss = nn.MSELoss()\n",
        "optimizer = torch.optim.SGD(model.parameters(), lr=learning_rate)"
      ],
      "execution_count": 16,
      "outputs": []
    },
    {
      "cell_type": "code",
      "metadata": {
        "id": "KOXXcoii1One"
      },
      "source": [
        "# train \n",
        "\n",
        "for epoch in range(n_iters):\n",
        "  y_pred = model(x)\n",
        "  l = loss(y, y_pred)\n",
        "  l.backward()\n",
        "  optimizer.step()\n",
        "  optimizer.zero_grad()\n",
        "\n",
        "  print(f'epoch {epoch+1}:, loss = {l.item():.3f}')"
      ],
      "execution_count": null,
      "outputs": []
    },
    {
      "cell_type": "code",
      "metadata": {
        "colab": {
          "base_uri": "https://localhost:8080/",
          "height": 265
        },
        "id": "mTOBeigJz3xw",
        "outputId": "059c63df-4790-44e7-d199-67c6cf77d690"
      },
      "source": [
        "# plot data prediction\n",
        "\n",
        "y_pred = y_pred.detach().numpy()\n",
        "plt.plot(x, y, 'ro')\n",
        "plt.plot(x, y_pred, 'b')\n",
        "plt.show()\n"
      ],
      "execution_count": 18,
      "outputs": [
        {
          "output_type": "display_data",
          "data": {
            "image/png": "[encoded data removed]",
            "text/plain": [
              "<Figure size 432x288 with 1 Axes>"
            ]
          },
          "metadata": {
            "needs_background": "light"
          }
        }
      ]
    }
  ]
}