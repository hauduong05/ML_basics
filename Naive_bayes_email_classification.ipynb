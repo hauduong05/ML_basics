{
  "nbformat": 4,
  "nbformat_minor": 0,
  "metadata": {
    "colab": {
      "name": "Naive_bayes: email classification.ipynb",
      "provenance": [],
      "authorship_tag": "ABX9TyNChQgF1j8+atvanfggEUAH",
      "include_colab_link": true
    },
    "kernelspec": {
      "name": "python3",
      "display_name": "Python 3"
    },
    "language_info": {
      "name": "python"
    }
  },
  "cells": [
    {
      "cell_type": "markdown",
      "metadata": {
        "id": "view-in-github",
        "colab_type": "text"
      },
      "source": [
        "<a href=\"https://colab.research.google.com/github/hauduong05/ML_basics/blob/main/Naive_bayes_email_classification.ipynb\" target=\"_parent\"><img src=\"https://colab.research.google.com/assets/colab-badge.svg\" alt=\"Open In Colab\"/></a>"
      ]
    },
    {
      "cell_type": "code",
      "metadata": {
        "colab": {
          "base_uri": "https://localhost:8080/"
        },
        "id": "BG4VCuAAK0KM",
        "outputId": "118a672e-91b3-4cb0-c52b-8d4e4c93a8ab"
      },
      "source": [
        "from google.colab import drive\n",
        "drive.mount('/content/gdrive')"
      ],
      "execution_count": 1,
      "outputs": [
        {
          "output_type": "stream",
          "name": "stdout",
          "text": [
            "Mounted at /content/gdrive\n"
          ]
        }
      ]
    },
    {
      "cell_type": "code",
      "metadata": {
        "id": "hSeBo74kBHqj"
      },
      "source": [
        "import numpy as np\n",
        "from sklearn.naive_bayes import MultinomialNB\n",
        "from scipy.sparse import coo_matrix\n",
        "import pandas as pd\n",
        "from sklearn.metrics import accuracy_score, classification_report"
      ],
      "execution_count": 6,
      "outputs": []
    },
    {
      "cell_type": "code",
      "metadata": {
        "id": "UzYnuK9PKk3W"
      },
      "source": [
        "# read data\n",
        "\n",
        "nwords = 2500\n",
        "def read_data(datap, labelp):\n",
        "  f = open(labelp, 'r')\n",
        "  content = f.readlines()\n",
        "  labels = [int(i.strip()) for i in content]\n",
        "  f = open(datap, 'r')\n",
        "  content = f.readlines()\n",
        "  content = [i.strip() for i in content]\n",
        "  dat = np.zeros((len(content), 3), dtype = int)\n",
        "  \n",
        "  for i, line in enumerate(content):\n",
        "    a = line.split(' ')\n",
        "    dat[i, :] = np.array([int(a[0]), int(a[1]), int(a[2])])\n",
        "  data = coo_matrix((dat[:, 2], (dat[:, 0] - 1, dat[:, 1] - 1)),  shape=(len(labels), nwords))\n",
        "  return (data, labels)"
      ],
      "execution_count": 3,
      "outputs": []
    },
    {
      "cell_type": "code",
      "metadata": {
        "id": "erygz_W7UWuu"
      },
      "source": [
        "# prepare data\n",
        "\n",
        "train_datap = '/content/gdrive/MyDrive/naive_bayes/train-features.txt'\n",
        "train_labelp = '/content/gdrive/MyDrive/naive_bayes/train-labels.txt'\n",
        "test_datap = '/content/gdrive/MyDrive/naive_bayes/test-features.txt'\n",
        "test_labelp = '/content/gdrive/MyDrive/naive_bayes/test-labels.txt'\n",
        "\n",
        "train_data, train_label = read_data(traindatap, trainlabelp)\n",
        "test_data, test_label = read_data(testdatap, testlabelp)"
      ],
      "execution_count": 10,
      "outputs": []
    },
    {
      "cell_type": "code",
      "metadata": {
        "colab": {
          "base_uri": "https://localhost:8080/"
        },
        "id": "UUccDQBwSuf8",
        "outputId": "6c2fd359-2e8b-4fdc-a286-a9271fd39737"
      },
      "source": [
        "# naive_bayes\n",
        "\n",
        "model = MultinomialNB()\n",
        "model.fit(train_data, train_label)\n",
        "\n",
        "y_pred = model.predict(test_data)\n",
        "print(f'Accuracy = {accuracy_score(y_pred, test_label):.3f} \\n')\n",
        "print(classification_report(y_pred, test_label))"
      ],
      "execution_count": 11,
      "outputs": [
        {
          "output_type": "stream",
          "name": "stdout",
          "text": [
            "Accuracy = 0.981 \n",
            "\n",
            "              precision    recall  f1-score   support\n",
            "\n",
            "           0       0.97      0.99      0.98       127\n",
            "           1       0.99      0.97      0.98       133\n",
            "\n",
            "    accuracy                           0.98       260\n",
            "   macro avg       0.98      0.98      0.98       260\n",
            "weighted avg       0.98      0.98      0.98       260\n",
            "\n"
          ]
        }
      ]
    }
  ]
}