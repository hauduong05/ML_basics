{
  "nbformat": 4,
  "nbformat_minor": 0,
  "metadata": {
    "colab": {
      "name": "CNN : character_recog.ipynb",
      "provenance": [],
      "mount_file_id": "1xD1l2Uvn4L-WOu14GM249GVbyx8quJKs",
      "authorship_tag": "ABX9TyMYhkMqlAD+TllsvFZpGi+A",
      "include_colab_link": true
    },
    "kernelspec": {
      "name": "python3",
      "display_name": "Python 3"
    },
    "language_info": {
      "name": "python"
    }
  },
  "cells": [
    {
      "cell_type": "markdown",
      "metadata": {
        "id": "view-in-github",
        "colab_type": "text"
      },
      "source": [
        "<a href=\"https://colab.research.google.com/github/hauduong05/ML_basics/blob/main/CNN_character_recog.ipynb\" target=\"_parent\"><img src=\"https://colab.research.google.com/assets/colab-badge.svg\" alt=\"Open In Colab\"/></a>"
      ]
    },
    {
      "cell_type": "code",
      "metadata": {
        "id": "wtbuXT98v7K-",
        "colab": {
          "base_uri": "https://localhost:8080/"
        },
        "outputId": "04f0e132-149a-4d42-afb7-18a94c1447a6"
      },
      "source": [
        "from google.colab import drive\n",
        "drive.mount('/content/gdrive')"
      ],
      "execution_count": 1,
      "outputs": [
        {
          "output_type": "stream",
          "name": "stdout",
          "text": [
            "Mounted at /content/gdrive\n"
          ]
        }
      ]
    },
    {
      "cell_type": "code",
      "metadata": {
        "id": "6kfKkxXEu8Wk"
      },
      "source": [
        "import torch\n",
        "import torch.nn as nn\n",
        "import torchvision\n",
        "from torch.utils.data import  Dataset, DataLoader, TensorDataset\n",
        "import matplotlib.pyplot as plt\n",
        "import numpy as np\n",
        "import pandas as pd\n",
        "from sklearn.model_selection import train_test_split\n",
        "import random\n",
        "import torch.nn.functional as F"
      ],
      "execution_count": 3,
      "outputs": []
    },
    {
      "cell_type": "code",
      "metadata": {
        "id": "okLuGcSMZ0Ho"
      },
      "source": [
        "# initial hyper_parameters\n",
        "\n",
        "batch_size = 64\n",
        "learning_rate = 0.001\n",
        "n_epochs = 10"
      ],
      "execution_count": 4,
      "outputs": []
    },
    {
      "cell_type": "code",
      "metadata": {
        "id": "r7CF5SrZaxhO"
      },
      "source": [
        "# prepare data\n",
        "\n",
        "data = pd.read_csv('/content/gdrive/MyDrive/hand_written/hand_written.csv', header=None)\n",
        "\n",
        "labels = data[0].values\n",
        "features = data.loc[:, data.columns != 0].values / 255\n",
        "\n",
        "shuffle_order = list(range(len(labels)))\n",
        "random.shuffle(shuffle_order)\n",
        "features = features[shuffle_order]\n",
        "labels = labels[shuffle_order]\n",
        "\n",
        "X_train, y_train = features[:300000], labels[:300000]\n",
        "X_val, y_val = features[300000:330000], labels[300000:330000]\n",
        "X_test , y_test = features[330000:], labels[330000:]\n",
        "X_train = torch.from_numpy(X_train.astype(np.float32))\n",
        "X_val = torch.from_numpy(X_val.astype(np.float32))\n",
        "X_test = torch.from_numpy(X_test.astype(np.float32))\n",
        "y_train = torch.from_numpy(y_train).type(torch.LongTensor)\n",
        "y_val = torch.from_numpy(y_val).type(torch.LongTensor)\n",
        "y_test = torch.from_numpy(y_test).type(torch.LongTensor)\n",
        "\n",
        "trainset = TensorDataset(X_train, y_train)\n",
        "valset = TensorDataset(X_val, y_val)\n",
        "testset = TensorDataset(X_test, y_test)\n",
        "\n",
        "train_loader = DataLoader(trainset, batch_size=batch_size, shuffle=False)\n",
        "val_loader = DataLoader(valset, batch_size=batch_size, shuffle=False)\n",
        "test_loader = DataLoader(testset, batch_size=batch_size, shuffle=False)"
      ],
      "execution_count": 6,
      "outputs": []
    },
    {
      "cell_type": "code",
      "metadata": {
        "id": "rTzrpAdoijro"
      },
      "source": [
        "# build model\n",
        "\n",
        "class ConvNet(nn.Module):\n",
        "  def __init__(self):\n",
        "    super(ConvNet, self).__init__()\n",
        "    self.conv1 = nn.Conv2d(1, 32, 3, padding=1)\n",
        "    self.pool = nn.MaxPool2d(2, 2)\n",
        "    self.conv2 = nn.Conv2d(32, 32, 3, padding=1)\n",
        "    self.fc1  = nn.Linear(7*7*32, 120)\n",
        "    self.fc2 = nn.Linear(120, 26)\n",
        "\n",
        "  def forward(self, x):\n",
        "    x = self.pool(F.relu(self.conv1(x)))\n",
        "    x = self.pool(F.relu(self.conv2(x)))\n",
        "    x = x.view(-1, 7*7*32)\n",
        "    x = self.fc1(x)\n",
        "    x = self.fc2(x)\n",
        "    return x\n",
        "\n",
        "model = ConvNet()\n",
        "l = nn.CrossEntropyLoss()\n",
        "optimizer = torch.optim.Adam(model.parameters(), lr=learning_rate)"
      ],
      "execution_count": null,
      "outputs": []
    },
    {
      "cell_type": "code",
      "metadata": {
        "id": "jE4zoOBeweWF"
      },
      "source": [
        "# train and evaluate\n",
        "\n",
        "train_loss_hist =[]\n",
        "train_acc_hist = []\n",
        "val_loss_hist = []\n",
        "val_acc_hist = []\n",
        "\n",
        "for epoch in range(n_epochs):\n",
        "  loss = 0.0\n",
        "  corr = 0.0\n",
        "  val_l = 0.0\n",
        "  val_corr = 0.0\n",
        "  for data, labels in train_loader:\n",
        "    data = data.view(-1, 1, 28, 28)\n",
        "    outputs = model(data)\n",
        "    \n",
        "    optimizer.zero_grad()\n",
        "    loss1 = l(outputs, labels)\n",
        "    loss1.backward()\n",
        "    optimizer.step()\n",
        "    _, preds = torch.max(outputs, 1)\n",
        "    loss += loss1.item()\n",
        "    corr += torch.sum(preds == labels)\n",
        "  with torch.no_grad():\n",
        "    for data, labels in val_loader:\n",
        "      data = data.view(-1, 1, 28, 28)\n",
        "      outputs = model(data)\n",
        "      loss2 = l(outputs, labels)\n",
        "      _, val_preds = torch.max(outputs, 1)\n",
        "      val_l += loss2.item()\n",
        "      val_corr += torch.sum(val_preds == labels)\n",
        "  train_loss = loss / len(train_loader)\n",
        "  train_acc = corr.float()/ len(X_train)\n",
        "  train_loss_hist.append(train_loss)\n",
        "  train_acc_hist.append(train_acc)\n",
        "  val_loss = val_l / len(val_loader)\n",
        "  val_acc = val_corr.float() / len(X_val)\n",
        "  val_loss_hist.append(val_loss)\n",
        "  val_acc_hist.append(val_acc)\n",
        "  print(f'epoch {epoch+1} : loss = {train_loss:.3f} - acc = {train_acc:.3f} - val_loss = {val_loss:.3f} - val_acc = {val_acc:.3f}')"
      ],
      "execution_count": null,
      "outputs": []
    },
    {
      "cell_type": "code",
      "metadata": {
        "colab": {
          "base_uri": "https://localhost:8080/",
          "height": 282
        },
        "id": "6kstLQuC9Rdk",
        "outputId": "d4882abf-4af2-4795-a47c-8cd437b32962"
      },
      "source": [
        "# test\n",
        "\n",
        "arr = [chr(i) for i in range(65, 91)]\n",
        "z = list(range(len(X_test)))\n",
        "random.shuffle(z)\n",
        "plt.imshow(X_test[z[0]].reshape(28, 28), cmap='gray')\n",
        "plt.show()\n",
        "output = model(X_test[z[0]].reshape(-1, 1, 28, 28))\n",
        "pred = torch.max(output, 1)[1]\n",
        "print(arr[pred.item()])\n"
      ],
      "execution_count": null,
      "outputs": [
        {
          "output_type": "display_data",
          "data": {
            "image/png": "[encoded data removed]",
            "text/plain": [
              "<Figure size 432x288 with 1 Axes>"
            ]
          },
          "metadata": {
            "tags": [],
            "needs_background": "light"
          }
        },
        {
          "output_type": "stream",
          "text": [
            "P\n"
          ],
          "name": "stdout"
        }
      ]
    },
    {
      "cell_type": "code",
      "metadata": {
        "colab": {
          "base_uri": "https://localhost:8080/",
          "height": 280
        },
        "id": "PBw7RxLkJ6W8",
        "outputId": "295ebf4a-fc3d-49f9-df6a-ddfb358dc8ec"
      },
      "source": [
        "# plot train loss and validation loss\n",
        "\n",
        "fig = plt.figure()\n",
        "plt.plot(np.arange(n_epochs), train_loss_hist, 'b-', label = 'training loss')\n",
        "plt.plot(np.arange(n_epochs), val_loss_hist, 'r-', label = 'validation loss')\n",
        "plt.xlabel('num of epoch')\n",
        "plt.ylabel('loss')\n",
        "plt.legend()\n",
        "plt.show()"
      ],
      "execution_count": null,
      "outputs": [
        {
          "output_type": "display_data",
          "data": {
            "image/png": "[encoded data removed]",
            "text/plain": [
              "<Figure size 432x288 with 1 Axes>"
            ]
          },
          "metadata": {
            "tags": [],
            "needs_background": "light"
          }
        }
      ]
    },
    {
      "cell_type": "code",
      "metadata": {
        "colab": {
          "base_uri": "https://localhost:8080/",
          "height": 279
        },
        "id": "NGnvcpniLn-p",
        "outputId": "e16cd312-9df1-4b4f-a4d7-3651a9a921b1"
      },
      "source": [
        "# plot train accuracy and validation accuracy\n",
        "\n",
        "fig = plt.figure()\n",
        "plt.plot(np.arange(n_epochs), train_acc_hist, 'b-', label = 'training acc')\n",
        "plt.plot(np.arange(n_epochs), val_acc_hist, 'r-', label = 'validation acc')\n",
        "plt.xlabel('num of epoch')\n",
        "plt.ylabel('acc')\n",
        "plt.legend()\n",
        "plt.show()"
      ],
      "execution_count": null,
      "outputs": [
        {
          "output_type": "display_data",
          "data": {
            "image/png": "[encoded data removed]",
            "text/plain": [
              "<Figure size 432x288 with 1 Axes>"
            ]
          },
          "metadata": {
            "tags": [],
            "needs_background": "light"
          }
        }
      ]
    }
  ]
}