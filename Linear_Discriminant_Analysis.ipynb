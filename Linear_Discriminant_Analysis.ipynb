{
  "nbformat": 4,
  "nbformat_minor": 0,
  "metadata": {
    "colab": {
      "name": "Linear_Discriminant_Analysis.ipynb",
      "provenance": [],
      "authorship_tag": "ABX9TyOnh8pdN+2OupaZlCljJ16Z",
      "include_colab_link": true
    },
    "kernelspec": {
      "name": "python3",
      "display_name": "Python 3"
    },
    "language_info": {
      "name": "python"
    }
  },
  "cells": [
    {
      "cell_type": "markdown",
      "metadata": {
        "id": "view-in-github",
        "colab_type": "text"
      },
      "source": [
        "<a href=\"https://colab.research.google.com/github/hauduong05/ML_basics/blob/main/Linear_Discriminant_Analysis.ipynb\" target=\"_parent\"><img src=\"https://colab.research.google.com/assets/colab-badge.svg\" alt=\"Open In Colab\"/></a>"
      ]
    },
    {
      "cell_type": "code",
      "metadata": {
        "id": "ewnRW_ydQU7B"
      },
      "source": [
        "import numpy as np\n",
        "import matplotlib.pyplot as plt\n",
        "from sklearn.discriminant_analysis import LinearDiscriminantAnalysis"
      ],
      "execution_count": 2,
      "outputs": []
    },
    {
      "cell_type": "code",
      "metadata": {
        "id": "MZlwwUFvOpv0"
      },
      "source": [
        "# prepare data\n",
        "\n",
        "np.random.seed(21)\n",
        "\n",
        "means = [[0, 5], (5, 0)]\n",
        "cov1 = [[3, 2], [2, 3]]\n",
        "cov2 = [[3, 1], [1, 1]]\n",
        "\n",
        "X0 = np.random.multivariate_normal(means[0], cov1, 50)\n",
        "X1 = np.random.multivariate_normal(means[1], cov2, 50)\n",
        "X = np.concatenate((X0, X1))\n",
        "y = np.array([0] * 50 + [1] * 50)"
      ],
      "execution_count": 3,
      "outputs": []
    },
    {
      "cell_type": "code",
      "metadata": {
        "id": "OVK_BA6TQZP2"
      },
      "source": [
        "# model\n",
        "\n",
        "lda = LinearDiscriminantAnalysis()\n",
        "lda.fit(X, y)\n",
        "\n",
        "w = lda.coef_/np.linalg.norm(lda.coef_)"
      ],
      "execution_count": 4,
      "outputs": []
    },
    {
      "cell_type": "code",
      "metadata": {
        "colab": {
          "base_uri": "https://localhost:8080/",
          "height": 265
        },
        "id": "9-SKc3m6Pafe",
        "outputId": "24d73d8e-2292-4a94-bce1-7e3f021542be"
      },
      "source": [
        "# plot \n",
        "\n",
        "line_x = np.linspace(-5, 5, 50)\n",
        "line_y = w[0][1] / w[0][0] * line_x\n",
        "\n",
        "fig = plt.figure()\n",
        "plt.plot(X0[:, 0], X0[:, 1], 'ro')\n",
        "plt.plot(X1[:, 0], X1[:, 1], 'b^')\n",
        "plt.plot(line_x, line_y, 'g-')\n",
        "plt.show()"
      ],
      "execution_count": 6,
      "outputs": [
        {
          "output_type": "display_data",
          "data": {
            "image/png": "[encoded data removed]",
            "text/plain": [
              "<Figure size 432x288 with 1 Axes>"
            ]
          },
          "metadata": {
            "needs_background": "light"
          }
        }
      ]
    }
  ]
}