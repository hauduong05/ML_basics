{
  "nbformat": 4,
  "nbformat_minor": 0,
  "metadata": {
    "colab": {
      "name": "ANN : ditgit_recognize.ipynb",
      "provenance": [],
      "authorship_tag": "ABX9TyPBFWiMMZ6DTziXhrHgQ2X6",
      "include_colab_link": true
    },
    "kernelspec": {
      "name": "python3",
      "display_name": "Python 3"
    },
    "language_info": {
      "name": "python"
    },
    "accelerator": "GPU"
  },
  "cells": [
    {
      "cell_type": "markdown",
      "metadata": {
        "id": "view-in-github",
        "colab_type": "text"
      },
      "source": [
        "<a href=\"https://colab.research.google.com/github/hauduong05/ML_basics/blob/main/ANN_ditgit_recognize.ipynb\" target=\"_parent\"><img src=\"https://colab.research.google.com/assets/colab-badge.svg\" alt=\"Open In Colab\"/></a>"
      ]
    },
    {
      "cell_type": "code",
      "metadata": {
        "id": "xhfk9AemwDao"
      },
      "source": [
        "import torch\n",
        "import torch.nn as nn\n",
        "import torchvision\n",
        "from torch.utils.data import Dataset, DataLoader\n",
        "from torchvision.transforms import transforms\n",
        "import matplotlib.pyplot as plt\n",
        "import numpy as np"
      ],
      "execution_count": 16,
      "outputs": []
    },
    {
      "cell_type": "code",
      "metadata": {
        "id": "-ynLuUghWI3a"
      },
      "source": [
        "# initial hyperparameters\n",
        "\n",
        "input_size = 28*28\n",
        "batch_size = 100\n",
        "hidden_size = 100\n",
        "num_classes = 10\n",
        "n_epochs = 10\n",
        "learning_rate = 0.01"
      ],
      "execution_count": 17,
      "outputs": []
    },
    {
      "cell_type": "code",
      "metadata": {
        "id": "2ci7xXWQWTsY"
      },
      "source": [
        "# prepare data\n",
        "\n",
        "train = torchvision.datasets.MNIST(root='./data', train=True, transform=transforms.ToTensor(), download=True)\n",
        "test = torchvision.datasets.MNIST(root='./data', train=False, transform=transforms.ToTensor())\n",
        "\n",
        "train_loader = DataLoader(dataset=train, batch_size=batch_size, shuffle=True)\n",
        "test_loader = DataLoader(dataset=test, batch_size=batch_size, shuffle=True)"
      ],
      "execution_count": 19,
      "outputs": []
    },
    {
      "cell_type": "code",
      "metadata": {
        "id": "Wycyyszv40vK"
      },
      "source": [
        "# buld model\n",
        "\n",
        "class NeuralNet(nn.Module):\n",
        "  def __init__(self, input_size, hidden_size, num_classes):\n",
        "    super(NeuralNet, self).__init__()\n",
        "    self.linear = nn.Linear(input_size, hidden_size)\n",
        "    self.relu = nn.ReLU()\n",
        "    self.fc = nn.Linear(hidden_size, num_classes)\n",
        "  def forward(self, x):\n",
        "    out = self.linear(x)\n",
        "    out = self.relu(out)\n",
        "    out = self.fc(out)\n",
        "    return out"
      ],
      "execution_count": 20,
      "outputs": []
    },
    {
      "cell_type": "code",
      "metadata": {
        "id": "Lyz3h9h96HTi"
      },
      "source": [
        "model = NeuralNet(input_size, hidden_size, num_classes)\n",
        "loss = nn.CrossEntropyLoss()\n",
        "optimizer = torch.optim.Adam(model.parameters(), lr=learning_rate)"
      ],
      "execution_count": 21,
      "outputs": []
    },
    {
      "cell_type": "code",
      "metadata": {
        "colab": {
          "base_uri": "https://localhost:8080/"
        },
        "id": "oTFUBkVsWmJ0",
        "outputId": "368592c3-92d5-40f3-b40e-8066e417c7ba"
      },
      "source": [
        "# train\n",
        "\n",
        "train_loss = []\n",
        "for epoch in range(n_epochs):\n",
        "  for images, labels in train_loader:\n",
        "    train_data = images.view(-1, 28*28)\n",
        "    y_pred = model(train_data)\n",
        "    optimizer.zero_grad()\n",
        "    l = loss(y_pred, labels)\n",
        "    train_loss.append(l)\n",
        "    l.backward()\n",
        "    optimizer.step()\n",
        "  \n",
        "    \n",
        "  print(f'epoch {epoch+1} :  loss = {l.item():.3f}')"
      ],
      "execution_count": 23,
      "outputs": [
        {
          "output_type": "stream",
          "name": "stdout",
          "text": [
            "epoch 1 :  loss = 0.086\n",
            "epoch 2 :  loss = 0.149\n",
            "epoch 3 :  loss = 0.054\n",
            "epoch 4 :  loss = 0.029\n",
            "epoch 5 :  loss = 0.052\n",
            "epoch 6 :  loss = 0.038\n",
            "epoch 7 :  loss = 0.094\n",
            "epoch 8 :  loss = 0.013\n",
            "epoch 9 :  loss = 0.078\n",
            "epoch 10 :  loss = 0.018\n"
          ]
        }
      ]
    },
    {
      "cell_type": "code",
      "metadata": {
        "colab": {
          "base_uri": "https://localhost:8080/",
          "height": 282
        },
        "id": "5Sj_V4ieWsPz",
        "outputId": "154cbea9-4b4e-4bb2-c190-91d1af8476d9"
      },
      "source": [
        "with torch.no_grad():\n",
        "  for images, labels in test_loader:\n",
        "    test = images.view(-1, 28*28)\n",
        "    y_pred = model(test) \n",
        "    _, predict = torch.max(y_pred, 1)\n",
        "    acc = predict.eq(labels).sum() / float(labels.shape[0])\n",
        "\n",
        "plt.imshow(test[0].view(28, 28), cmap = 'gray')\n",
        "print(predict[0].item())\n",
        "plt.show()"
      ],
      "execution_count": 27,
      "outputs": [
        {
          "output_type": "stream",
          "name": "stdout",
          "text": [
            "3\n"
          ]
        },
        {
          "output_type": "display_data",
          "data": {
            "image/png": "[encoded data removed]",
            "text/plain": [
              "<Figure size 432x288 with 1 Axes>"
            ]
          },
          "metadata": {
            "needs_background": "light"
          }
        }
      ]
    }
  ]
}